{
 "cells": [
  {
   "cell_type": "code",
   "execution_count": 1,
   "metadata": {},
   "outputs": [],
   "source": [
    "import sys\n",
    "\n",
    "sys.path.append(\"../\")\n",
    "\n",
    "import nt2.read as nt2r\n",
    "import myplotlib\n",
    "import matplotlib.pyplot as plt\n",
    "import numpy as np\n",
    "import matplotlib as mpl\n",
    "from scipy.optimize import fsolve\n",
    "\n",
    "myplotlib.load(\"hershey\")\n",
    "\n",
    "\n",
    "def coloredLine(x, y, c, ax=None, **kwargs):\n",
    "    if ax is None:\n",
    "        ax = plt.gca()\n",
    "    for i in range(len(x) - 1):\n",
    "        ax.plot(x[i : i + 2], y[i : i + 2], c=c[i], **kwargs)"
   ]
  },
  {
   "cell_type": "code",
   "execution_count": 4,
   "metadata": {},
   "outputs": [
    {
     "name": "stdout",
     "output_type": "stream",
     "text": [
      "r0 = [68.600387032258]\n",
      "th0 = [1.570796326795]\n",
      "ph0 = [0.000000000000]\n",
      "ur0 = [0.029636644590]\n",
      "uth0 = [0.000000000000]\n",
      "uph0 = [3.900000000000]\n"
     ]
    }
   ],
   "source": [
    "def circularOrbit(r, E, L, a):\n",
    "    return (\n",
    "        -(a**2 * r)\n",
    "        - (-2 + r) * (L**2 + r**2)\n",
    "        - 4 * a * L * E\n",
    "        + (r**3 + a**2 * (2 + r)) * E**2\n",
    "    )\n",
    "\n",
    "\n",
    "def Ur0KS(r, E, L, a):\n",
    "    return (-(a * L) + 2 * r * E) / (a**2 + (-2 + r) * r)\n",
    "\n",
    "\n",
    "E, L, a = 0.986906, 3.9, 0.0\n",
    "\n",
    "r0 = fsolve(circularOrbit, 80, args=(E, L, a))[0]\n",
    "\n",
    "ur, uth, uph = Ur0KS(r0, E, L, a), 0, L\n",
    "\n",
    "print(f\"r0 = [{r0:.12f}]\")\n",
    "print(f\"th0 = [{np.pi/2:.12f}]\")\n",
    "print(f\"ph0 = [{0:.12f}]\")\n",
    "print(f\"ur0 = [{ur:.12f}]\")\n",
    "print(f\"uth0 = [{uth:.12f}]\")\n",
    "print(f\"uph0 = [{uph:.12f}]\")"
   ]
  }
 ],
 "metadata": {
  "kernelspec": {
   "display_name": "plotting",
   "language": "python",
   "name": "python3"
  },
  "language_info": {
   "codemirror_mode": {
    "name": "ipython",
    "version": 3
   },
   "file_extension": ".py",
   "mimetype": "text/x-python",
   "name": "python",
   "nbconvert_exporter": "python",
   "pygments_lexer": "ipython3",
   "version": "3.11.3"
  },
  "orig_nbformat": 4
 },
 "nbformat": 4,
 "nbformat_minor": 2
}
